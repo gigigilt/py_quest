{
 "cells": [
  {
   "cell_type": "code",
   "execution_count": 12,
   "id": "a8c3c2d8",
   "metadata": {},
   "outputs": [],
   "source": [
    "import random\n",
    "class Character:\n",
    "    def __init__(self, name, level, hp, attack, defense):\n",
    "        self.name=name\n",
    "        self.level=level\n",
    "        self.hp=hp\n",
    "        self.attack=attack\n",
    "        self.defense=defense\n",
    "    def is_alive(self):\n",
    "        return self.hp>0\n",
    "    def take_damage(self, damage):\n",
    "        if self.defense>damage:\n",
    "            self.hp=self.hp\n",
    "        else:\n",
    "            self.hp-=damage-self.defense\n",
    "    def attack_target(self, target):\n",
    "        damage=random.randint(1,self.attack)\n",
    "        print(f'{self.name}이 {target.name}에게 {damage}의 데미지를 입힙니다')\n",
    "        target.take_damage(damage)"
   ]
  },
  {
   "cell_type": "code",
   "execution_count": 13,
   "id": "73778b66",
   "metadata": {},
   "outputs": [],
   "source": [
    "class Player(Character):\n",
    "    def __init__(self,name):\n",
    "        super().__init__(name, 1,100,25,5)\n",
    "        self.experience=0\n",
    "    def gain_experience(self, experience):\n",
    "        self.experience+=int(experience)\n",
    "    def level_up(self):\n",
    "        if self.experience>=50:\n",
    "            self.level+=self.experience//50\n",
    "            self.attack+=10*(self.experience//50)\n",
    "            self.defense+=5*(self.experience//50)\n",
    "            self.experience %= 50\n",
    "class Monster(Character):\n",
    "    def __init__(self, name, level):\n",
    "            hp=random.randint(10,30)*level\n",
    "            attack=random.randint(5,20)*level\n",
    "            defense =random.randint(1,5)*level\n",
    "            super().__init__(name,level,hp,attack,defense)"
   ]
  },
  {
   "cell_type": "code",
   "execution_count": 16,
   "id": "30018b46",
   "metadata": {},
   "outputs": [],
   "source": [
    "def battle(player,monster):\n",
    "    while player.is_alive() and monster.is_alive():\n",
    "        player.attack_target(monster)\n",
    "        if not monster.is_alive():\n",
    "            player.gain_experience(20*monster.level)\n",
    "            player.level_up()\n",
    "            print(\"전투 승리!\")\n",
    "            break\n",
    "                \n",
    "        monster.attack_target(player)\n",
    "        \n",
    "        if not player.is_alive():\n",
    "            print('전투 패배..')\n",
    "            break"
   ]
  },
  {
   "cell_type": "code",
   "execution_count": 18,
   "id": "99fd90a2",
   "metadata": {},
   "outputs": [],
   "source": [
    "#Q4.main 함수 만들기\n",
    "def main():\n",
    "    monster_dict ={'슬라임': 1, '고블린': 2, '오크':3}\n",
    "        \n",
    "    name=input('이름을 입력하세요')\n",
    "    player=Player(name)\n",
    "    for monster_name, level in monster_dict.items():\n",
    "        print(f'{monster_name}과의 전투를 시작합니다')\n",
    "        monster= Monster(monster_name, level)\n",
    "            \n",
    "        battle(player, monster)\n",
    "        if player.is_alive():\n",
    "            continue\n",
    "        else:\n",
    "            print('게임오버')\n",
    "            break"
   ]
  },
  {
   "cell_type": "code",
   "execution_count": null,
   "id": "e35db766",
   "metadata": {},
   "outputs": [],
   "source": []
  }
 ],
 "metadata": {
  "kernelspec": {
   "display_name": "Python 3 (ipykernel)",
   "language": "python",
   "name": "python3"
  },
  "language_info": {
   "codemirror_mode": {
    "name": "ipython",
    "version": 3
   },
   "file_extension": ".py",
   "mimetype": "text/x-python",
   "name": "python",
   "nbconvert_exporter": "python",
   "pygments_lexer": "ipython3",
   "version": "3.9.7"
  }
 },
 "nbformat": 4,
 "nbformat_minor": 5
}
