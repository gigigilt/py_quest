{
 "cells": [
  {
   "cell_type": "code",
   "execution_count": 32,
   "id": "38640172",
   "metadata": {},
   "outputs": [],
   "source": [
    "import random\n",
    "\n",
    "class Account:\n",
    "    account_count =0\n",
    "    def __init__(self, owner, init_balance):\n",
    "        Account.account_count +=1\n",
    "        self.owner = owner\n",
    "        self.balance = init_balance\n",
    "        self.bank_name = 'SC은행'\n",
    "        self.account_number = self.generate_account_number()\n",
    "        self.deposit_count =0\n",
    "        self.withdraw_count =0\n",
    "        self.deposit_log =[]\n",
    "        self.withdraw_log =[]\n",
    "        print(f'{Account.account_count}번째 객체 생성')\n",
    "    def generate_account_number(self):\n",
    "        part1 =random.randint(100,999)\n",
    "        part2 =random.randint(10,99)\n",
    "        part3= random.randint(100000,999999)\n",
    "        return f'{part1}-{part2}-{part3}'\n",
    "    \n",
    "    def get_account_num(self):\n",
    "        return Account.account_count\n",
    "    \n",
    "    def deposit(self, amount):\n",
    "        if amount>=1:\n",
    "            self.balance +=amount\n",
    "            self.deposit_log.append(amount)\n",
    "            self.deposit_count +=1\n",
    "            return True\n",
    "        else:\n",
    "            print(\"1원 이상 입금해주세요\")\n",
    "            return False\n",
    "    \n",
    "    def withdraw(self, amount):\n",
    "        if self.balance>=amount:\n",
    "            self.balance -= amount\n",
    "            self.withdraw_log.append(amount)\n",
    "            self.withdraw_count +=1\n",
    "            return True \n",
    "        else:\n",
    "            print(\"잔액 부족\")\n",
    "            return False\n",
    "    def display_info(self):\n",
    "        print(f'은행이름: {self.bank_name}')\n",
    "        print(f'예금주: {self.owner}')      \n",
    "        print(f'계좌번호: {self.account_number}')\n",
    "        print(f'잔고: {self.balance:,}원')\n",
    "    def interest(self):\n",
    "        if self.deposit_count ==5:\n",
    "            self.balance*=1.01\n",
    "            self.deposit_count=0\n",
    "        else:\n",
    "            return\n",
    "    def deposit_history(self):\n",
    "        print(self.deposit_log)\n",
    "    def withdraw_history(self):\n",
    "        print(self.withdraw_log)"
   ]
  },
  {
   "cell_type": "code",
   "execution_count": 33,
   "id": "34f31551",
   "metadata": {},
   "outputs": [
    {
     "name": "stdout",
     "output_type": "stream",
     "text": [
      "1번째 객체 생성\n",
      "2번째 객체 생성\n",
      "3번째 객체 생성\n",
      "4번째 객체 생성\n"
     ]
    }
   ],
   "source": [
    "account1 = Account(\"김철수\", 10000)\n",
    "account2 = Account(\"이영희\", 50000)\n",
    "account3 = Account(\"박완서\", 1000000)\n",
    "account4 = Account('서영춘', 8000000)\n",
    "list_a = [account1, account2, account3, account4]"
   ]
  },
  {
   "cell_type": "code",
   "execution_count": 34,
   "id": "c4fb650c",
   "metadata": {
    "scrolled": true
   },
   "outputs": [
    {
     "name": "stdout",
     "output_type": "stream",
     "text": [
      "은행이름: SC은행\n",
      "예금주: 박완서\n",
      "계좌번호: 120-15-573592\n",
      "잔고: 1,000,000원\n",
      "은행이름: SC은행\n",
      "예금주: 서영춘\n",
      "계좌번호: 722-83-267060\n",
      "잔고: 8,000,000원\n"
     ]
    }
   ],
   "source": [
    "for i in list_a:\n",
    "    if i.balance>=1000000:\n",
    "        i.display_info()"
   ]
  },
  {
   "cell_type": "code",
   "execution_count": null,
   "id": "9210a748",
   "metadata": {},
   "outputs": [],
   "source": []
  },
  {
   "cell_type": "code",
   "execution_count": null,
   "id": "338a8025",
   "metadata": {},
   "outputs": [],
   "source": []
  }
 ],
 "metadata": {
  "kernelspec": {
   "display_name": "Python 3 (ipykernel)",
   "language": "python",
   "name": "python3"
  },
  "language_info": {
   "codemirror_mode": {
    "name": "ipython",
    "version": 3
   },
   "file_extension": ".py",
   "mimetype": "text/x-python",
   "name": "python",
   "nbconvert_exporter": "python",
   "pygments_lexer": "ipython3",
   "version": "3.9.7"
  }
 },
 "nbformat": 4,
 "nbformat_minor": 5
}
